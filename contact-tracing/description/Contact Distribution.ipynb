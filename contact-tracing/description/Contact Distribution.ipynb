{
 "cells": [
  {
   "cell_type": "markdown",
   "metadata": {},
   "source": [
    "## Modeling contacts and proximity\n",
    "\n",
    "In the SEIR model, $\\beta$ is the transmission rate: the rate at which an infectious person transmits infection to a susceptible person.\n",
    "\n",
    "Another interpretation is \"is the average number of contacts per person per time\".\n",
    "\n",
    "Here, a *contact* is a case of an infected person transmiting to a susceptible.\n",
    "This is somewhat narrowed than the public health use of *contact*, which is when an infected person comes into proximity with a susceptible person.\n",
    "This may or may not cause a transmission.\n",
    "\n",
    "These are both narrower than the way \"contact\" is used in smartphone based contact tracing.\n",
    "The data collected by these devices is *proximity* data, which is the colocation of two people. Two people may be in proximity without either being infectious.\n",
    "\n",
    "\n",
    "There is a tension between model realism and model elegance. In the original SEIR model, the frequency of physical contact and the frequency of transmission are collapse together into $\\beta$. the transmission probability. The \"spatial\" aspects of the model, which controls the rate of stochastic mixing, are a separate process that feeds into this calculation.\n",
    "\n",
    "In our model, we have extended the spatial mixing model to introduce proximity tracing between non-infectious people. This is to be more realistic in simulation of how smartphone \"contact\" tracing works: proximity data is what's stored by the system. In our model, we assume proximity data is deployed only when a patient tests positive.\n",
    "\n",
    "## Variable contact rates\n",
    "\n",
    "In our model, we would like to have variable contact rates. \n",
    "\n",
    "We would also like to maintain fidelity to the original SEIR model as much as possible.\n",
    "\n",
    "We can do this like so:\n",
    " * Give the agents variable transmission probabilities\n",
    " * Have $\\beta$ as the mean transition probability\n",
    " *\n",
    " *\n"
   ]
  },
  {
   "cell_type": "code",
   "execution_count": null,
   "metadata": {},
   "outputs": [],
   "source": []
  }
 ],
 "metadata": {
  "kernelspec": {
   "display_name": "Python 3",
   "language": "python",
   "name": "python3"
  },
  "language_info": {
   "codemirror_mode": {
    "name": "ipython",
    "version": 3
   },
   "file_extension": ".py",
   "mimetype": "text/x-python",
   "name": "python",
   "nbconvert_exporter": "python",
   "pygments_lexer": "ipython3",
   "version": "3.6.9"
  },
  "latex_envs": {
   "LaTeX_envs_menu_present": true,
   "autoclose": false,
   "autocomplete": true,
   "bibliofile": "biblio.bib",
   "cite_by": "apalike",
   "current_citInitial": 1,
   "eqLabelWithNumbers": true,
   "eqNumInitial": 1,
   "hotkeys": {
    "equation": "Ctrl-E",
    "itemize": "Ctrl-I"
   },
   "labels_anchors": false,
   "latex_user_defs": false,
   "report_style_numbering": false,
   "user_envs_cfg": false
  },
  "toc": {
   "base_numbering": 1,
   "nav_menu": {},
   "number_sections": true,
   "sideBar": true,
   "skip_h1_title": false,
   "title_cell": "Table of Contents",
   "title_sidebar": "Contents",
   "toc_cell": false,
   "toc_position": {},
   "toc_section_display": true,
   "toc_window_display": false
  }
 },
 "nbformat": 4,
 "nbformat_minor": 2
}
