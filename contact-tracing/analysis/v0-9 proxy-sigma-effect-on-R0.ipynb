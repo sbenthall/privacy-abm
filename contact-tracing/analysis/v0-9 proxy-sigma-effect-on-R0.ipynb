{
 "cells": [
  {
   "cell_type": "code",
   "execution_count": 26,
   "metadata": {},
   "outputs": [],
   "source": [
    "import matplotlib.pyplot as plt\n",
    "import pandas as pd\n",
    "import seaborn as sn\n",
    "\n",
    "from scipy import stats"
   ]
  },
  {
   "cell_type": "code",
   "execution_count": 2,
   "metadata": {},
   "outputs": [],
   "source": [
    "data = pd.read_csv(\"SEIR-privacy-v0-9 proxy-sigma-effect-on-R0-table.csv\", skiprows=6)"
   ]
  },
  {
   "cell_type": "code",
   "execution_count": 38,
   "metadata": {},
   "outputs": [],
   "source": [
    "data_c = pd.read_csv(\"SEIR-privacy-v0-9 proxy-sigma-effect-on-R0-extra-table.csv\", skiprows=6)"
   ]
  },
  {
   "cell_type": "code",
   "execution_count": 39,
   "metadata": {},
   "outputs": [],
   "source": [
    "data = data.drop_duplicates(subset = '[run number]', keep='last')"
   ]
  },
  {
   "cell_type": "code",
   "execution_count": 40,
   "metadata": {},
   "outputs": [
    {
     "data": {
      "text/plain": [
       "0      0.0\n",
       "598    0.2\n",
       "Name: proxy-sigma, dtype: float64"
      ]
     },
     "execution_count": 40,
     "metadata": {},
     "output_type": "execute_result"
    }
   ],
   "source": [
    "data['proxy-sigma'].drop_duplicates()"
   ]
  },
  {
   "cell_type": "code",
   "execution_count": 41,
   "metadata": {},
   "outputs": [
    {
     "data": {
      "text/plain": [
       "Index(['[run number]', 'N', 'symptom-prob', 'adoption-slope',\n",
       "       'transmission-prob', 'adoption-rate', 'can-relax', 'proxy-sigma',\n",
       "       'start-infected', 'max-contacts', 'recovery-prob',\n",
       "       'exposed-to-infectious-prob', 'roam-range', '[step]',\n",
       "       'final-susceptible', 'final-recovered', 'max-exposed', 'max-infectious',\n",
       "       'max-symptomatic'],\n",
       "      dtype='object')"
      ]
     },
     "execution_count": 41,
     "metadata": {},
     "output_type": "execute_result"
    }
   ],
   "source": [
    "data.columns"
   ]
  },
  {
   "cell_type": "code",
   "execution_count": 42,
   "metadata": {},
   "outputs": [],
   "source": [
    "data = data.rename(\n",
    "    columns = {\n",
    "        'count turtles with [adopter?]' : 'adopter-count',\n",
    "        'count turtles with [epi-state = susceptible-code]' : 'final-susceptible',\n",
    "        'count turtles with [epi-state = susceptible-code and adopter?] / count turtles with [adopter?]' : 'final-%-adopters-susceptible',\n",
    "        'count turtles with [epi-state = susceptible-code and not adopter?] / count turtles with [not adopter?]' : 'final-%-non-adopters-susceptible',\n",
    "        'count turtles with [epi-state = recovered-code] - start-infected' : 'final-recovered',\n",
    "        'count turtles with [alerted?]' : 'final-alerted',\n",
    "        'count turtles with [epi-state = susceptible-code and adopter?]' : 'final-adopter-susceptible',\n",
    "        'count turtles with [epi-state = recovered-code and adopter?] - start-infected' : 'final-adopter-recovered',\n",
    "        'count turtles with [alerted? and adopter?]' : 'final-adopter-alerted',\n",
    "        'count turtles with [adopter?] / count turtles with [epi-state = susceptible-code]' : 'adopter per susceptible',\n",
    "        'count turtles with [alerted?] / count turtles with [epi-state = susceptible-code]' : 'alerted per susceptible',\n",
    "        'total-tests  / count turtles with [epi-state = susceptible-code]' : 'test per susceptible'\n",
    "        \n",
    "    }\n",
    ")"
   ]
  },
  {
   "cell_type": "code",
   "execution_count": 55,
   "metadata": {},
   "outputs": [],
   "source": [
    "data_c = data_c.rename(\n",
    "    columns = {\n",
    "        'count turtles with [adopter?]' : 'adopter-count',\n",
    "        'count turtles with [epi-state = susceptible-code]' : 'final-susceptible',\n",
    "        'count turtles with [epi-state = susceptible-code and adopter?] / count turtles with [adopter?]' : 'final-%-adopters-susceptible',\n",
    "        'count turtles with [epi-state = susceptible-code and not adopter?] / count turtles with [not adopter?]' : 'final-%-non-adopters-susceptible',\n",
    "        'count turtles with [epi-state = recovered-code] - start-infected' : 'final-recovered',\n",
    "        'count turtles with [alerted?]' : 'final-alerted',\n",
    "        'count turtles with [epi-state = susceptible-code and adopter?]' : 'final-adopter-susceptible',\n",
    "        'count turtles with [epi-state = recovered-code and adopter?] - start-infected' : 'final-adopter-recovered',\n",
    "        'count turtles with [alerted? and adopter?]' : 'final-adopter-alerted',\n",
    "        'count turtles with [adopter?] / count turtles with [epi-state = susceptible-code]' : 'adopter per susceptible',\n",
    "        'count turtles with [alerted?] / count turtles with [epi-state = susceptible-code]' : 'alerted per susceptible',\n",
    "        'total-tests  / count turtles with [epi-state = susceptible-code]' : 'test per susceptible'\n",
    "        \n",
    "    }\n",
    ")"
   ]
  },
  {
   "cell_type": "markdown",
   "metadata": {},
   "source": [
    "The plots show the effect of ranging variables on the percentage of final susceptibles for adopters and non-adopters, respectively."
   ]
  },
  {
   "cell_type": "code",
   "execution_count": 43,
   "metadata": {},
   "outputs": [
    {
     "data": {
      "text/plain": [
       "proxy-sigma\n",
       "0.0    4999\n",
       "0.2    4999\n",
       "Name: final-susceptible, dtype: int64"
      ]
     },
     "execution_count": 43,
     "metadata": {},
     "output_type": "execute_result"
    }
   ],
   "source": [
    "data.groupby('proxy-sigma')['final-susceptible'].max()"
   ]
  },
  {
   "cell_type": "code",
   "execution_count": 44,
   "metadata": {},
   "outputs": [
    {
     "data": {
      "text/plain": [
       "proxy-sigma\n",
       "0.0    1243\n",
       "0.2    1343\n",
       "Name: final-susceptible, dtype: int64"
      ]
     },
     "execution_count": 44,
     "metadata": {},
     "output_type": "execute_result"
    }
   ],
   "source": [
    "data.groupby('proxy-sigma')['final-susceptible'].min()"
   ]
  },
  {
   "cell_type": "code",
   "execution_count": 45,
   "metadata": {},
   "outputs": [
    {
     "data": {
      "text/plain": [
       "proxy-sigma\n",
       "0.0    3384.260000\n",
       "0.2    4177.801667\n",
       "Name: final-susceptible, dtype: float64"
      ]
     },
     "execution_count": 45,
     "metadata": {},
     "output_type": "execute_result"
    }
   ],
   "source": [
    "data.groupby('proxy-sigma')['final-susceptible'].mean()"
   ]
  },
  {
   "cell_type": "code",
   "execution_count": 46,
   "metadata": {},
   "outputs": [
    {
     "data": {
      "text/plain": [
       "(600, 19)"
      ]
     },
     "execution_count": 46,
     "metadata": {},
     "output_type": "execute_result"
    }
   ],
   "source": [
    "data[data['proxy-sigma'] == 0.0].shape"
   ]
  },
  {
   "cell_type": "code",
   "execution_count": 47,
   "metadata": {},
   "outputs": [
    {
     "data": {
      "text/plain": [
       "(600, 19)"
      ]
     },
     "execution_count": 47,
     "metadata": {},
     "output_type": "execute_result"
    }
   ],
   "source": [
    "data[(data['proxy-sigma'] == 00) & (data['final-susceptible'] < 9900)].shape"
   ]
  },
  {
   "cell_type": "code",
   "execution_count": 63,
   "metadata": {},
   "outputs": [
    {
     "data": {
      "text/plain": [
       "<matplotlib.legend.Legend at 0x7f7654e78240>"
      ]
     },
     "execution_count": 63,
     "metadata": {},
     "output_type": "execute_result"
    },
    {
     "data": {
      "image/png": "[encoded data removed]",
      "text/plain": [
       "<Figure size 432x288 with 1 Axes>"
      ]
     },
     "metadata": {
      "needs_background": "light"
     },
     "output_type": "display_data"
    }
   ],
   "source": [
    "sn.distplot(data[(data['proxy-sigma'] == 0.0)]['final-susceptible'],\n",
    "            label=\"σ = 0\",\n",
    "            hist = True,\n",
    "            bins = 100,\n",
    "            kde = False,\n",
    "            kde_kws = {'bw' : 25}\n",
    "           )\n",
    "'''\n",
    "sn.distplot(data[(data['proxy-sigma'] == 0.2) & \n",
    "                 (data['final-susceptible'] < 9900)]['final-susceptible'],\n",
    "            label=\"σ = 0.2\",\n",
    "            hist = True,\n",
    "            bins = 50,\n",
    "            kde = True,\n",
    "            kde_kws = {'bw' : 25}\n",
    "            \n",
    "           )\n",
    "'''\n",
    "sn.distplot(data_c['final-susceptible'],\n",
    "            label=\"case c\",\n",
    "            hist = True,\n",
    "            bins = 100,\n",
    "            kde = False,\n",
    "            kde_kws = {'bw' : 25}\n",
    "            \n",
    "           )\n",
    "#sn.distplot(data[data['proxy-sigma'] == 0.4]['final-susceptible'],\n",
    "#            label=\"σ = 0.4\",\n",
    "#            hist = True,\n",
    "#            kde = False,\n",
    "#            bins = 50\n",
    "#           )\n",
    "plt.title(\"Distribution of final susceptibles for variance of β\")\n",
    "plt.legend()"
   ]
  },
  {
   "cell_type": "code",
   "execution_count": null,
   "metadata": {},
   "outputs": [],
   "source": []
  },
  {
   "cell_type": "code",
   "execution_count": 49,
   "metadata": {},
   "outputs": [
    {
     "data": {
      "text/plain": [
       "<matplotlib.axes._subplots.AxesSubplot at 0x7f7654f94978>"
      ]
     },
     "execution_count": 49,
     "metadata": {},
     "output_type": "execute_result"
    },
    {
     "data": {
      "image/png": "[encoded data removed]",
      "text/plain": [
       "<Figure size 432x288 with 1 Axes>"
      ]
     },
     "metadata": {
      "needs_background": "light"
     },
     "output_type": "display_data"
    }
   ],
   "source": [
    "sn.kdeplot(data[data['proxy-sigma'] == 0.0]['final-susceptible'], label=\"σ = 0\")\n",
    "sn.kdeplot(data[data['proxy-sigma'] == 0.2]['final-susceptible'], label=\"σ = 0.2\")\n",
    "sn.kdeplot(data[data['proxy-sigma'] == 0.4]['final-susceptible'], label=\"σ = 0.4\")"
   ]
  },
  {
   "cell_type": "code",
   "execution_count": 50,
   "metadata": {},
   "outputs": [],
   "source": [
    "cat0 = data[data['proxy-sigma'] == 0]['final-susceptible']\n",
    "cat1 = data[data['proxy-sigma'] == 0.2]['final-susceptible']"
   ]
  },
  {
   "cell_type": "code",
   "execution_count": 51,
   "metadata": {},
   "outputs": [
    {
     "data": {
      "text/plain": [
       "(3384.26, 1744.506052730503, (600,))"
      ]
     },
     "execution_count": 51,
     "metadata": {},
     "output_type": "execute_result"
    }
   ],
   "source": [
    "(cat0.mean(), cat0.std(), cat0.shape)"
   ]
  },
  {
   "cell_type": "code",
   "execution_count": 52,
   "metadata": {},
   "outputs": [
    {
     "data": {
      "text/plain": [
       "(4177.801666666666, 1381.9648501592549, (600,))"
      ]
     },
     "execution_count": 52,
     "metadata": {},
     "output_type": "execute_result"
    }
   ],
   "source": [
    "(cat1.mean(), cat1.std(), cat1.shape)"
   ]
  },
  {
   "cell_type": "code",
   "execution_count": 58,
   "metadata": {},
   "outputs": [
    {
     "data": {
      "text/plain": [
       "(3242.3866666666668, 1835.4723665866097, (600,))"
      ]
     },
     "execution_count": 58,
     "metadata": {},
     "output_type": "execute_result"
    }
   ],
   "source": [
    "cat2 = data_c['final-susceptible']\n",
    "(cat2.mean(), cat2.std(), cat2.shape)"
   ]
  },
  {
   "cell_type": "code",
   "execution_count": 59,
   "metadata": {},
   "outputs": [
    {
     "data": {
      "text/plain": [
       "Ttest_indResult(statistic=1.3723687812033638, pvalue=0.17020554573184474)"
      ]
     },
     "execution_count": 59,
     "metadata": {},
     "output_type": "execute_result"
    }
   ],
   "source": [
    "stats.ttest_ind(cat0,cat2)"
   ]
  },
  {
   "cell_type": "code",
   "execution_count": null,
   "metadata": {},
   "outputs": [],
   "source": []
  },
  {
   "cell_type": "code",
   "execution_count": null,
   "metadata": {},
   "outputs": [],
   "source": []
  },
  {
   "cell_type": "code",
   "execution_count": null,
   "metadata": {},
   "outputs": [],
   "source": []
  },
  {
   "cell_type": "code",
   "execution_count": null,
   "metadata": {},
   "outputs": [],
   "source": []
  }
 ],
 "metadata": {
  "kernelspec": {
   "display_name": "Python 3",
   "language": "python",
   "name": "python3"
  },
  "language_info": {
   "codemirror_mode": {
    "name": "ipython",
    "version": 3
   },
   "file_extension": ".py",
   "mimetype": "text/x-python",
   "name": "python",
   "nbconvert_exporter": "python",
   "pygments_lexer": "ipython3",
   "version": "3.6.9"
  },
  "latex_envs": {
   "LaTeX_envs_menu_present": true,
   "autoclose": false,
   "autocomplete": true,
   "bibliofile": "biblio.bib",
   "cite_by": "apalike",
   "current_citInitial": 1,
   "eqLabelWithNumbers": true,
   "eqNumInitial": 1,
   "hotkeys": {
    "equation": "Ctrl-E",
    "itemize": "Ctrl-I"
   },
   "labels_anchors": false,
   "latex_user_defs": false,
   "report_style_numbering": false,
   "user_envs_cfg": false
  },
  "toc": {
   "base_numbering": 1,
   "nav_menu": {},
   "number_sections": true,
   "sideBar": true,
   "skip_h1_title": false,
   "title_cell": "Table of Contents",
   "title_sidebar": "Contents",
   "toc_cell": false,
   "toc_position": {},
   "toc_section_display": true,
   "toc_window_display": false
  }
 },
 "nbformat": 4,
 "nbformat_minor": 4
}
