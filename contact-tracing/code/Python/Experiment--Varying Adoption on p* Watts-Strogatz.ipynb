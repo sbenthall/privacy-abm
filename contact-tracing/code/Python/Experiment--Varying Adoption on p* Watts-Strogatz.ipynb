{
 "cells": [
  {
   "cell_type": "code",
   "execution_count": 1,
   "metadata": {},
   "outputs": [],
   "source": [
    "import sys\n",
    "\n",
    "sys.path.append('.')\n",
    "\n",
    "import model"
   ]
  },
  {
   "cell_type": "code",
   "execution_count": 2,
   "metadata": {},
   "outputs": [],
   "source": [
    "import matplotlib.pyplot as plt\n",
    "import networkx as nx\n",
    "import numpy as np\n",
    "import pandas as pd\n",
    "import random\n",
    "import seaborn as sns\n",
    "import statistics"
   ]
  },
  {
   "cell_type": "markdown",
   "metadata": {},
   "source": [
    "Some invariant parameters for this notebook:"
   ]
  },
  {
   "cell_type": "code",
   "execution_count": 3,
   "metadata": {},
   "outputs": [],
   "source": [
    "## Population parameters:\n",
    "base_params = {\n",
    "    # Node parameter\n",
    "    'A' : 0.0, # Now this will vary case by case.\n",
    "    \n",
    "    # Edge parameter\n",
    "    'W' : .5, # probability of edge activation; 2/K\n",
    "    'C' : 1.0, ## all edges can be traced.\n",
    "    \n",
    "    ## Disease parameters\n",
    "\n",
    "    'beta_hat' : .4, # probability of transmission upon contact\n",
    "    'alpha' : .25, # probability of exposed becoming infectious\n",
    "    'gamma' : .1, # probability of infectious becoming recovered\n",
    "    'zeta' : .1, # probability of infectious becoming symptomatic\n",
    "\n",
    "    ## Contact tracing parameters\n",
    "\n",
    "    'limit' : 10, # number of time steps the contact tracing system remembers\n",
    "}"
   ]
  },
  {
   "cell_type": "markdown",
   "metadata": {},
   "source": [
    "$p^*$ has been chosen because it exposes the effects of the Watts-Strogatz structure.\n",
    "With $K = 4$, roughly one edge for every node is rewired, with the rest comprising the circle lattice."
   ]
  },
  {
   "cell_type": "code",
   "execution_count": 4,
   "metadata": {},
   "outputs": [],
   "source": [
    "p_star = 0.256\n",
    "K = 4\n",
    "\n",
    "# N = 2000  --- allowing this to vary now"
   ]
  },
  {
   "cell_type": "markdown",
   "metadata": {},
   "source": [
    "This time, run the model with no contact tracing at all."
   ]
  },
  {
   "cell_type": "code",
   "execution_count": 5,
   "metadata": {},
   "outputs": [],
   "source": [
    "def watts_strogatz_case_p_star(N, K, p_star, **kwargs):\n",
    "\n",
    "    g = nx.watts_strogatz_graph(N, K, p_star)\n",
    "    \n",
    "    g.graph['p'] = p_star\n",
    "    \n",
    "    return g, kwargs\n",
    "\n",
    "def ws_case_generator(N, K, p_star):\n",
    "    def wscg(**kwargs):\n",
    "        return watts_strogatz_case_p_star(N, K, p_star, **kwargs)\n",
    "    \n",
    "    return wscg"
   ]
  },
  {
   "cell_type": "code",
   "execution_count": 6,
   "metadata": {},
   "outputs": [],
   "source": [
    "conditions = {\n",
    "    'A-0.000' : {'A' : 0.000},\n",
    "    'A-0.100' : {'A' : 0.100},\n",
    "    'A-0.200' : {'A' : 0.200},\n",
    "    'A-0.300' : {'A' : 0.300},\n",
    "    'A-0.400' : {'A' : 0.400},\n",
    "    'A-0.500' : {'A' : 0.500},\n",
    "    'A-0.600' : {'A' : 0.600},\n",
    "    'A-0.700' : {'A' : 0.700},\n",
    "    'A-0.800' : {'A' : 0.800},\n",
    "    'A-0.900' : {'A' : 0.900},\n",
    "    'A-1.000' : {'A' : 1.000},\n",
    "}"
   ]
  },
  {
   "cell_type": "code",
   "execution_count": 7,
   "metadata": {},
   "outputs": [],
   "source": [
    "def data_from_result(results, case):\n",
    "    a_key = list(results.keys())[0]\n",
    "    g = results[a_key][0][2]\n",
    "    N = len(g.nodes)\n",
    "    \n",
    "    return [{**r[1],\n",
    "             **{\n",
    "                 \"N\" : N,\n",
    "                 \"case\" : case,\n",
    "                 \"A\" : r[1]['A'],\n",
    "                 \"time\" : r[0],\n",
    "                 \"s_final\" : r[4][-1],\n",
    "                 \"infected_ratio\" : (N - r[4][-1]) / N\n",
    "             }} \n",
    "            for r\n",
    "            in results[case]]\n",
    "\n",
    "def data_from_all_results(results):\n",
    "    return pd.DataFrame([r for case in results for r in data_from_result(results, case)])\n"
   ]
  },
  {
   "cell_type": "code",
   "execution_count": 8,
   "metadata": {},
   "outputs": [],
   "source": [
    "runs = 30"
   ]
  },
  {
   "cell_type": "code",
   "execution_count": 9,
   "metadata": {},
   "outputs": [],
   "source": [
    "#results_2000 = model.experiment(\n",
    "#    ws_case_generator(1000, K, p_star),\n",
    "#    base_params,\n",
    "#    conditions,\n",
    "#    runs)\n",
    "\n",
    "#data_2000 = data_from_all_results(results_2000)\n",
    "\n",
    "#data_2000.to_csv('data_A_2000.csv')"
   ]
  },
  {
   "cell_type": "code",
   "execution_count": 10,
   "metadata": {},
   "outputs": [],
   "source": [
    "#results_4000 = model.experiment(\n",
    "#    ws_case_generator(2000, K, p_star),\n",
    "#    base_params,\n",
    "#    conditions,\n",
    "#    runs)\n",
    "\n",
    "#data_4000 = data_from_all_results(results_4000)\n",
    "#data_4000.to_csv('data_A_4000.csv')"
   ]
  },
  {
   "cell_type": "code",
   "execution_count": null,
   "metadata": {},
   "outputs": [
    {
     "name": "stdout",
     "output_type": "stream",
     "text": [
      "A-0.000\n",
      "Trial 0\n",
      "Trial 0 hits time step 100\n",
      "Trial 10 hits time step 100\n",
      "Trial 13 hits time step 100\n",
      "Trial 0 hits time step 200\n",
      "Trial 16 hits time step 100\n",
      "Trial 10 hits time step 200\n",
      "Trial 13 hits time step 200\n",
      "Trial 0 hits time step 300\n",
      "Trial 16 hits time step 200\n",
      "Trial 19 hits time step 100\n",
      "Trial 21 hits time step 100\n",
      "Trial 24 hits time step 100\n",
      "Trial 17 hits time step 100\n",
      "Trial 19 hits time step 200\n",
      "Trial 21 hits time step 200\n",
      "Trial 24 hits time step 200\n",
      "Trial 19 hits time step 300\n",
      "Trial 17 hits time step 200\n",
      "Trial 21 hits time step 300\n",
      "Trial 24 hits time step 300\n",
      "Trial 17 hits time step 300\n",
      "Trial 27 hits time step 100\n",
      "Trial 25 hits time step 100\n",
      "Trial 28 hits time step 100\n",
      "Trial 27 hits time step 200\n",
      "Trial 25 hits time step 200\n",
      "Trial 27 hits time step 300\n",
      "Trial 29 hits time step 100\n",
      "Trial 29 hits time step 200\n",
      "A-0.100\n",
      "Trial 0\n",
      "Trial 2 hits time step 100\n",
      "Trial 11 hits time step 100\n",
      "Trial 2 hits time step 200\n",
      "Trial 22 hits time step 100\n",
      "Trial 25 hits time step 100\n",
      "Trial 11 hits time step 200\n",
      "Trial 2 hits time step 300\n",
      "Trial 22 hits time step 200\n",
      "Trial 25 hits time step 200\n",
      "Trial 3 hits time step 100\n",
      "Trial 26 hits time step 100\n",
      "Trial 3 hits time step 200\n",
      "Trial 26 hits time step 200\n",
      "Trial 3 hits time step 300\n",
      "Trial 26 hits time step 300\n",
      "A-0.200\n",
      "Trial 0\n",
      "Trial 2 hits time step 100\n",
      "Trial 6 hits time step 100\n",
      "Trial 4 hits time step 100\n",
      "Trial 0 hits time step 100\n",
      "Trial 6 hits time step 200\n",
      "Trial 2 hits time step 200\n",
      "Trial 4 hits time step 200\n",
      "Trial 0 hits time step 200\n",
      "Trial 0 hits time step 300\n",
      "Trial 8 hits time step 100\n",
      "Trial 10 hits time step 100\n",
      "Trial 8 hits time step 200\n",
      "Trial 10 hits time step 200\n",
      "Trial 24 hits time step 100\n",
      "Trial 8 hits time step 300\n",
      "Trial 10 hits time step 300\n",
      "Trial 24 hits time step 200\n",
      "Trial 28 hits time step 100\n",
      "Trial 28 hits time step 200\n",
      "A-0.300\n",
      "Trial 0\n",
      "Trial 4 hits time step 100\n",
      "Trial 0 hits time step 100\n",
      "Trial 2 hits time step 100\n",
      "Trial 8 hits time step 100\n",
      "Trial 0 hits time step 200\n",
      "Trial 4 hits time step 200\n",
      "Trial 2 hits time step 200\n",
      "Trial 8 hits time step 200\n",
      "Trial 0 hits time step 300\n",
      "Trial 4 hits time step 300\n",
      "Trial 9 hits time step 100\n",
      "Trial 3 hits time step 100\n",
      "Trial 1 hits time step 100\n",
      "Trial 9 hits time step 200\n",
      "Trial 10 hits time step 100\n",
      "Trial 3 hits time step 200\n",
      "Trial 1 hits time step 200\n",
      "Trial 10 hits time step 200\n",
      "Trial 16 hits time step 100\n",
      "Trial 14 hits time step 100\n",
      "Trial 20 hits time step 100\n",
      "Trial 16 hits time step 200\n",
      "Trial 14 hits time step 200\n",
      "Trial 20 hits time step 200\n",
      "Trial 28 hits time step 100\n",
      "Trial 21 hits time step 100\n",
      "Trial 28 hits time step 200\n",
      "Trial 21 hits time step 200\n",
      "Trial 28 hits time step 300\n",
      "Trial 21 hits time step 300\n",
      "A-0.400\n",
      "Trial 0\n",
      "Trial 4 hits time step 100\n",
      "Trial 6 hits time step 100\n",
      "Trial 10 hits time step 100\n",
      "Trial 1 hits time step 100\n",
      "Trial 4 hits time step 200\n",
      "Trial 6 hits time step 200\n",
      "Trial 10 hits time step 200\n",
      "Trial 1 hits time step 200\n",
      "Trial 6 hits time step 300\n",
      "Trial 1 hits time step 300\n",
      "Trial 11 hits time step 100\n",
      "Trial 6 hits time step 400\n",
      "Trial 13 hits time step 100\n",
      "Trial 11 hits time step 200\n",
      "Trial 7 hits time step 100\n",
      "Trial 13 hits time step 200\n",
      "Trial 11 hits time step 300\n",
      "Trial 7 hits time step 200\n",
      "Trial 17 hits time step 100\n",
      "Trial 19 hits time step 100\n",
      "Trial 23 hits time step 100\n",
      "Trial 17 hits time step 200\n",
      "Trial 21 hits time step 100\n",
      "Trial 19 hits time step 200\n",
      "Trial 23 hits time step 200\n",
      "Trial 17 hits time step 300\n",
      "Trial 21 hits time step 200\n",
      "Trial 23 hits time step 300\n",
      "Trial 21 hits time step 300\n",
      "Trial 24 hits time step 100\n",
      "Trial 28 hits time step 100\n",
      "Trial 24 hits time step 200\n",
      "Trial 28 hits time step 200\n",
      "Trial 28 hits time step 300\n",
      "Trial 25 hits time step 100\n",
      "Trial 29 hits time step 100\n",
      "Trial 25 hits time step 200\n",
      "Trial 29 hits time step 200\n",
      "Trial 25 hits time step 300\n",
      "Trial 29 hits time step 300\n",
      "A-0.500\n",
      "Trial 0\n",
      "Trial 0 hits time step 100\n",
      "Trial 2 hits time step 100\n",
      "Trial 8 hits time step 100\n",
      "Trial 0 hits time step 200\n",
      "Trial 2 hits time step 200\n",
      "Trial 2 hits time step 300\n",
      "Trial 9 hits time step 100\n",
      "Trial 17 hits time step 100\n",
      "Trial 9 hits time step 200\n",
      "Trial 9 hits time step 300\n",
      "Trial 17 hits time step 200\n",
      "Trial 18 hits time step 100\n",
      "Trial 20 hits time step 100\n",
      "Trial 25 hits time step 100\n",
      "Trial 26 hits time step 100\n",
      "Trial 25 hits time step 200\n",
      "Trial 18 hits time step 200\n",
      "Trial 18 hits time step 300\n",
      "Trial 28 hits time step 100\n",
      "Trial 26 hits time step 200\n",
      "Trial 25 hits time step 300\n",
      "Trial 27 hits time step 100\n",
      "Trial 27 hits time step 200\n",
      "A-0.600\n"
     ]
    }
   ],
   "source": [
    "results_6000 = model.experiment(\n",
    "    ws_case_generator(3000, K, p_star),\n",
    "    base_params,\n",
    "    conditions,\n",
    "    runs)\n",
    "\n",
    "data_6000 = data_from_all_results(results_6000)\n",
    "data_6000.to_csv('data_A_6000.csv')"
   ]
  },
  {
   "cell_type": "code",
   "execution_count": null,
   "metadata": {},
   "outputs": [],
   "source": [
    "data = pd.concat([\n",
    "    pd.read_csv('data_A_2000.csv'),\n",
    "    pd.read_csv('data_A_4000.csv'),\n",
    "    pd.read_csv('data_A_6000.csv')\n",
    "])"
   ]
  },
  {
   "cell_type": "code",
   "execution_count": null,
   "metadata": {},
   "outputs": [],
   "source": [
    "g = results_2000['A-0.000'][0][2]\n",
    "N = len(g.nodes())\n",
    "bins = np.linspace(0, 1, 50)\n",
    "\n",
    "for case in results_2000:\n",
    "    plt.hist(\n",
    "        [len(model.susceptible(r[2])) / N\n",
    "         for r\n",
    "         in results_2000[case]],\n",
    "        bins,\n",
    "        alpha=.5,\n",
    "        label=case)\n",
    "    \n",
    "plt.legend()"
   ]
  },
  {
   "cell_type": "code",
   "execution_count": null,
   "metadata": {},
   "outputs": [],
   "source": [
    "g = results_2000['A-0.000'][0][2]\n",
    "bins = np.linspace(0, len(g.nodes()), 50)\n",
    "\n",
    "for case in results_2000:\n",
    "    plt.plot(\n",
    "        model.average_over_time(results_2000[case], infected=True) / N,\n",
    "        alpha=.8,\n",
    "        label=case)\n",
    "    \n",
    "plt.legend()"
   ]
  },
  {
   "cell_type": "code",
   "execution_count": null,
   "metadata": {},
   "outputs": [],
   "source": []
  },
  {
   "cell_type": "code",
   "execution_count": null,
   "metadata": {},
   "outputs": [],
   "source": [
    "data[\"N-cat\"] = data[\"N\"].apply(lambda x: f\"N = {x}\")\n",
    "\n",
    "splot = sns.lineplot(x='A', y='infected_ratio', hue=\"N-cat\", data=data)\n",
    "\n",
    "splot.set(#xscale=\"log\",\n",
    "          xlabel='adoption rate',\n",
    "          ylabel='average final infected ratio')"
   ]
  },
  {
   "cell_type": "code",
   "execution_count": null,
   "metadata": {},
   "outputs": [],
   "source": [
    "data[\"N\"].unique()"
   ]
  },
  {
   "cell_type": "markdown",
   "metadata": {},
   "source": [
    "## Finding the inflection point\n",
    "\n",
    "Trying to find the inflection point. (What if there isn't one?)"
   ]
  },
  {
   "cell_type": "code",
   "execution_count": null,
   "metadata": {},
   "outputs": [],
   "source": [
    "epidemic_size = data[data[\"N\"] == 2000].groupby(\"A\")['infected_ratio'].mean()\n",
    "\n",
    "x = epidemic_size.index\n",
    "y = epidemic_size.values"
   ]
  },
  {
   "cell_type": "code",
   "execution_count": null,
   "metadata": {},
   "outputs": [],
   "source": [
    "df1 = np.gradient(epidemic_size.values,\n",
    "            epidemic_size.index,\n",
    "            edge_order = 1)"
   ]
  },
  {
   "cell_type": "code",
   "execution_count": null,
   "metadata": {},
   "outputs": [],
   "source": [
    "np.gradient(df1, epidemic_size.index, edge_order = 1)"
   ]
  },
  {
   "cell_type": "code",
   "execution_count": null,
   "metadata": {},
   "outputs": [],
   "source": [
    "x[np.argsort(df1)]"
   ]
  },
  {
   "cell_type": "code",
   "execution_count": null,
   "metadata": {},
   "outputs": [],
   "source": [
    "model.inflection_point(x,y)"
   ]
  },
  {
   "cell_type": "code",
   "execution_count": null,
   "metadata": {},
   "outputs": [],
   "source": [
    "plt.plot(x, y)\n"
   ]
  },
  {
   "cell_type": "code",
   "execution_count": null,
   "metadata": {},
   "outputs": [],
   "source": [
    "plt.plot(x, df1)\n"
   ]
  },
  {
   "cell_type": "code",
   "execution_count": null,
   "metadata": {},
   "outputs": [],
   "source": []
  }
 ],
 "metadata": {
  "kernelspec": {
   "display_name": "Python 3",
   "language": "python",
   "name": "python3"
  },
  "language_info": {
   "codemirror_mode": {
    "name": "ipython",
    "version": 3
   },
   "file_extension": ".py",
   "mimetype": "text/x-python",
   "name": "python",
   "nbconvert_exporter": "python",
   "pygments_lexer": "ipython3",
   "version": "3.6.9"
  },
  "latex_envs": {
   "LaTeX_envs_menu_present": true,
   "autoclose": false,
   "autocomplete": true,
   "bibliofile": "biblio.bib",
   "cite_by": "apalike",
   "current_citInitial": 1,
   "eqLabelWithNumbers": true,
   "eqNumInitial": 1,
   "hotkeys": {
    "equation": "Ctrl-E",
    "itemize": "Ctrl-I"
   },
   "labels_anchors": false,
   "latex_user_defs": false,
   "report_style_numbering": false,
   "user_envs_cfg": false
  },
  "toc": {
   "base_numbering": 1,
   "nav_menu": {},
   "number_sections": true,
   "sideBar": true,
   "skip_h1_title": false,
   "title_cell": "Table of Contents",
   "title_sidebar": "Contents",
   "toc_cell": false,
   "toc_position": {},
   "toc_section_display": true,
   "toc_window_display": false
  }
 },
 "nbformat": 4,
 "nbformat_minor": 2
}
