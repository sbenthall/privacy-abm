{
 "cells": [
  {
   "cell_type": "markdown",
   "metadata": {},
   "source": [
    "# Motivation\n",
    "\n",
    "Until now, we've seen infectiousness on a WS graph representing a \"small world\", with some close contacts (circle lattice) and some distant relationships.\n",
    "\n",
    "What does contact tracing do on this topology?\n",
    "\n",
    "How do people's privacy preferences affect contact tracing?\n",
    " - the different kinds of edges in the topology represent different kinds of social contacts over which people have different preferences"
   ]
  },
  {
   "cell_type": "markdown",
   "metadata": {},
   "source": [
    "## Technical framing the problem"
   ]
  },
  {
   "cell_type": "markdown",
   "metadata": {},
   "source": [
    "## Defining Terms\n",
    "\n",
    "***Inflection Point***: The point in a function $f(x) = y$ where the function $f$ turns from concave to convex, or vice versa.\n",
    "\n",
    "***Transition Region***: For a $f(x)$, a range of $x$ around the inflection point for which the slope is over some value. (lloyd et al.)\n",
    "\n",
    "***Threshold/Phase Transition/Critical Point:*** \"The point at which the order parameter goes from zero to non-zero in an infinite system.\" Where the order parameter is, e.g., the final density of infected nodes.\n",
    "  - ???? \"g(N) is the function giving the critical point as a function of N. Where it converges as N increases is the critical point.\"\n",
    "  - Finite Sampling\n",
    "  \n",
    "  - **First order**: \n",
    "      - This point is in a step function. It is well approximated by the inflection point.\n",
    "      - This may _not_ be a step function, and rather have a coexistence region. In that case, it has two transition points.\n",
    "  - **Second order**:\n",
    "      - This is the point where the order parameter becomes non-zero, but not as a step function\n",
    "      - This is the *critical point*. \n",
    "      - It may be well approximated by the point at which the function passes a (low) slope threshold??\n",
    "\n",
    "***Bimodal outcomes***: The final size will be a bimodal distribution because of (a) early extinctions (which are geometric on a 1D spread) and (b) the epidemic size.\n",
    "  - find the peaks\n",
    "  - find the midpoint between the peaks?\n",
    "  - ratio of sizes of the mass on either side of the midpoint."
   ]
  },
  {
   "cell_type": "markdown",
   "metadata": {},
   "source": [
    "## Tasks\n",
    "\n",
    "[ ] Plot the infection ratio, instead of susceptible ratio.\n",
    "\n",
    "\n",
    "Given a set of model parameters $M : (N, K, [p], beta, gamma, alpha, zeta) \\rightarrow S$ (where p is allowed to range, and S is the final susceptible ration)...\n",
    "\n",
    "... that will imply an inflection point $p^*(M) = \\arg \\min dM(p) / dp$.\n",
    "\n",
    "Suppose we fix $p = p^*(M)$.\n",
    "\n",
    "That will give us $NKp^*/2$ rewired edges.\n",
    "\n",
    "We next need to reintroduce contact tracing adoption.\n",
    "I suppose we have some \"empirical\" questions here.\n",
    "I think it would make sense to model these next situations (adapting slightly from the questions you posed originally):\n",
    "\n",
    "1) Look at the curve of outcomes as A (the adoption rate) ranges from 0 to 1.\n",
    "\n",
    "Expected result: a sigmoid function with an inflection point.\n",
    "We don't know we'll get this for sure though, since Lloyd et al. didn't go here.\n",
    "We know that with A = 0, $M(p^*) = S^*$ as before.\n",
    "We expect that with $A = 1, M(p) = 0$.\n",
    "\n",
    "We can take the inflection point of this curve, $A^*$, as the basis for the next study.\n",
    "This will be the point where the marginal effectiveness of the contact tracing system is at its highest.\n",
    "Note the slope here, $dS/dA^*$\n",
    "\n",
    "2) To start to look at the effect of the rewired/distant edges, try this to start:\n",
    "Set $A = A^*$, but knock out a percentage q of the rewired edges from the tracing system.\n",
    "We would also expect S to be monotonically decreasing in q.\n",
    "What does this curve look like? Is there an inflection point?\n",
    "\n",
    "If so, call it $q^*$\n",
    "\n",
    "Note the slope here, $dS/dq^*$.\n",
    "\n",
    "If $dS/dq^* \\times NKp^*/2 > dS/dA^* \\times A^*NK/2$, then that is circumstantial evidence that the \"distant\" edges are more impactful for contact tracing than the circle lattice edges, at the multidimensional inflection point along the p, A, and q axes.\n",
    "\n",
    "Once that is in place and we think about it, we can set up a more comprehensive grid search of the space to get the gradients at other levels of p, A, and q."
   ]
  },
  {
   "cell_type": "markdown",
   "metadata": {},
   "source": [
    "## Tasks (old draft)\n",
    "\n",
    "\n",
    "1. Scan of $p$ v. avg final infection size for our model parameters on the Watts-Storgatz lattice without contact tracing.\n",
    "  - Find the inflection point $\\hat{p}$\n",
    "  - This scan should help us find the minimum value of beta above which there is epidemic spread w/o contact tracing and will be used to choose a reasonable value of beta (somewhat above the threshold) for an initial comparison of the effects of i) failure to adopt and ii) selective failure to report more “distant” contacts.\n",
    "  - Find\n",
    "\n",
    "2. Setting A = 1 and fixing $p = \\hat{p}$, varying $\\chi$ to produce a plot of $\\chi$ v. avg final infection size, which can be translated into a plot of avg untraced edges v. avg final infection.  \n",
    "  - The avg number of untraced edges  can vary from 0 ($\\chi = 0$) to $p=KN/2$ (for xi = 1). Presumably, at $\\chi = 0$, there is full contact tracing and the epidemic is suppressed.  \n",
    "  - Assuming we have chosen a $p$ for which the epidemic spreads when xi=1, this plot will answer at least three questions: i) At (or around, if there’s no sharp transition) what number of untraced edges does contact tracing loses its effectiveness?  ii) how does the final infection size vary with xi? iii) what is the functional form of this variation?\n",
    "\n",
    "3. Setting $\\chi = 0$ and varying A to produce a plot of avg number of untraced edges v. avg final infection size, with the same beta.  Here the avg number of untraced edges can vary from 0 (A=1) to $KN/2$ (A=0).    This plot answers the same questions as above for this scenario. We might also want to plot untraced rewired edges v. avg final infection size from the same data.\n",
    "\n",
    "Now we compare these plots and see what we see."
   ]
  },
  {
   "cell_type": "markdown",
   "metadata": {},
   "source": [
    "# What do we want to answer the question\n",
    "\n",
    "1) Come up with a useful visualization of the tracing system itself\n",
    "  - trace close edges vs. traced remote edges?\n",
    "\n",
    "2) Plotting q* line graph with varied A* = { 0.2, 0.4, 0.6, 0.8 }\n",
    "\n",
    "3) What is the cost of a untraced close edge vs. untraced remote edge -- For a Given A/q!\n",
    "\n",
    "4) Heatmap of A vs. q infectiousness with p*"
   ]
  },
  {
   "cell_type": "code",
   "execution_count": null,
   "metadata": {},
   "outputs": [],
   "source": [
    "  "
   ]
  }
 ],
 "metadata": {
  "kernelspec": {
   "display_name": "Python 3",
   "language": "python",
   "name": "python3"
  },
  "language_info": {
   "codemirror_mode": {
    "name": "ipython",
    "version": 3
   },
   "file_extension": ".py",
   "mimetype": "text/x-python",
   "name": "python",
   "nbconvert_exporter": "python",
   "pygments_lexer": "ipython3",
   "version": "3.6.9"
  },
  "latex_envs": {
   "LaTeX_envs_menu_present": true,
   "autoclose": false,
   "autocomplete": true,
   "bibliofile": "biblio.bib",
   "cite_by": "apalike",
   "current_citInitial": 1,
   "eqLabelWithNumbers": true,
   "eqNumInitial": 1,
   "hotkeys": {
    "equation": "Ctrl-E",
    "itemize": "Ctrl-I"
   },
   "labels_anchors": false,
   "latex_user_defs": false,
   "report_style_numbering": false,
   "user_envs_cfg": false
  },
  "toc": {
   "base_numbering": 1,
   "nav_menu": {},
   "number_sections": true,
   "sideBar": true,
   "skip_h1_title": false,
   "title_cell": "Table of Contents",
   "title_sidebar": "Contents",
   "toc_cell": false,
   "toc_position": {},
   "toc_section_display": true,
   "toc_window_display": false
  }
 },
 "nbformat": 4,
 "nbformat_minor": 2
}
