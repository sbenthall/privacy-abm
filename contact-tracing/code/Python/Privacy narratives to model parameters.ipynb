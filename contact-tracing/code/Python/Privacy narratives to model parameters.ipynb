{
 "cells": [
  {
   "cell_type": "code",
   "execution_count": 1,
   "metadata": {},
   "outputs": [],
   "source": [
    "import sys\n",
    "\n",
    "sys.path.append('.')\n",
    "\n",
    "import model"
   ]
  },
  {
   "cell_type": "markdown",
   "metadata": {},
   "source": [
    "## Model design space\n",
    "\n",
    "There are many variables in the model design that can be altered to operationalize different situations or narratives. These include:\n",
    " \n",
    " * Disease parameters. ($\\hat{\\beta}$, $\\alpha$, $\\gamma$, $\\zeta$.\n",
    " * Contact network topology (graph) and contact probabilities (edges weights).\n",
    " * Adoption rate of the technical tracing system.\n",
    " * Contact tracing system memory limit."
   ]
  },
  {
   "cell_type": "markdown",
   "metadata": {},
   "source": [
    "## Narratives of Privacy"
   ]
  },
  {
   "cell_type": "markdown",
   "metadata": {},
   "source": [
    "### Women reluctant to use the smartphone app for fear of domestic violence\n",
    "\n",
    "Depends on assumptions about networks between men and women.\n",
    "\n",
    "Assuming gender homophily (men are more likely to connect with men than women, and vice versa):\n",
    "\n",
    "- Before generating the graph, partition it into halves women $x$ and men $y$.\n",
    "- Create edges with in-partition probability $p_{in}$ and between partition probability $p_{out}$, with $p_{in} > p_{out}$\n",
    "- Set adoption probability $a_x < a_y$.\n",
    "- Sample adoption for each node by partition membership."
   ]
  },
  {
   "cell_type": "markdown",
   "metadata": {},
   "source": [
    "### Non-adopting enclave\n",
    "\n",
    "Introduce a partition with high internal edge density, low external edge density, and low adoption rate.\n",
    "(This is similar to the case in 2.1).\n",
    "\n",
    "#### Case: Insularity of groups\n",
    "\n",
    "- In the partition:\n",
    "  - Low adoption rate [especially low for those nodes with extra-partition links]. Narrative: It is stigmatized to have contacts with those outside of the group.\n",
    "  - High internal edge density\n",
    "  - Low external edge density"
   ]
  },
  {
   "cell_type": "markdown",
   "metadata": {},
   "source": [
    "### Communal mentality\n",
    "\n",
    "Homophily in adoption rate (because adoption is a community decision, not an individual one).\n",
    "\n",
    "[This can be captured by having different base rates of (individual) adoption for different partitions.]"
   ]
  },
  {
   "cell_type": "markdown",
   "metadata": {},
   "source": [
    "### Employer/state mandate for essential workers\n",
    "\n",
    "For those who have contact with a lot of people because they are essential workers (they work in hospitals, grocery stores, etc.), they are required to carry the app.\n",
    "\n",
    "* Create graph with high variation in node degree\n",
    "* Set adoption rate as increasing function of degree"
   ]
  },
  {
   "cell_type": "markdown",
   "metadata": {},
   "source": [
    "### Political protests\n",
    "\n",
    "***A probability of reporting based on the edge?***\n",
    "\n",
    "There are events where people come into contact, but they don't want to bring their smartphones. (For reasons that may be independent from disease contact tracing).\n",
    "\n",
    "This reduces the adoption rate and/or the effectiveness of the tracing system more contextually."
   ]
  },
  {
   "cell_type": "markdown",
   "metadata": {},
   "source": [
    "### Some contacts are secret\n",
    "\n",
    "***This requires a new feature: having a chance of suppressing a contact (\"not carrying the phone\") at times.**"
   ]
  },
  {
   "cell_type": "code",
   "execution_count": null,
   "metadata": {},
   "outputs": [],
   "source": []
  },
  {
   "cell_type": "code",
   "execution_count": null,
   "metadata": {},
   "outputs": [],
   "source": []
  }
 ],
 "metadata": {
  "kernelspec": {
   "display_name": "Python 3",
   "language": "python",
   "name": "python3"
  },
  "language_info": {
   "codemirror_mode": {
    "name": "ipython",
    "version": 3
   },
   "file_extension": ".py",
   "mimetype": "text/x-python",
   "name": "python",
   "nbconvert_exporter": "python",
   "pygments_lexer": "ipython3",
   "version": "3.6.12"
  },
  "latex_envs": {
   "LaTeX_envs_menu_present": true,
   "autoclose": false,
   "autocomplete": true,
   "bibliofile": "biblio.bib",
   "cite_by": "apalike",
   "current_citInitial": 1,
   "eqLabelWithNumbers": true,
   "eqNumInitial": 1,
   "hotkeys": {
    "equation": "Ctrl-E",
    "itemize": "Ctrl-I"
   },
   "labels_anchors": false,
   "latex_user_defs": false,
   "report_style_numbering": false,
   "user_envs_cfg": false
  },
  "toc": {
   "base_numbering": 1,
   "nav_menu": {},
   "number_sections": true,
   "sideBar": true,
   "skip_h1_title": false,
   "title_cell": "Table of Contents",
   "title_sidebar": "Contents",
   "toc_cell": false,
   "toc_position": {},
   "toc_section_display": true,
   "toc_window_display": false
  }
 },
 "nbformat": 4,
 "nbformat_minor": 2
}
