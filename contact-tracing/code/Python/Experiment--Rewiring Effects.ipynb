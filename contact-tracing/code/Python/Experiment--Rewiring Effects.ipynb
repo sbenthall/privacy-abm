{
 "cells": [
  {
   "cell_type": "markdown",
   "metadata": {},
   "source": [
    "## Rewiring Effects\n",
    "\n",
    "This experiment uses the graph based epidemiology and contact tracing model, the BHES* Model.\n",
    "\n",
    "[[/* Benthall, Hatna, Epstein, and Strandburg -- we can give this a different ordering or name]]\n",
    "\n",
    "This experiment looks specifically at the interaction between:\n",
    " - the *local density* function for contact tracing probability, and\n",
    " - the rewiring rate of the Watts Strogatz graph generation algorithm\n",
    " \n",
    " Specifically, this experiment will assume the local density function for contact tracing probability and look at effects of the rewiring rate on disease spread. Secondarily, it will look at the effect of varying adoption rate under certain otherwise fixed parameters.\n",
    " \n",
    " \n",
    " ### Narratives\n",
    " \n",
    " This model makes many simplifying assumptions. Many of hese ar generic to the BHES model. \n",
    " \n",
    " Narratives/motivations that are specific to this experiment are:\n",
    " \n",
    " #### Local density for tracing probability\n",
    " \n",
    " We set the tracing probability of an edge to be proportion of the edge's node's common neighbors to the total neighbors.\n",
    "\n",
    "$$c_{u,v} = \\frac{| N(u) \\cap N(v) |}{| N(u) \\cup N(v) |}$$\n",
    "\n",
    "This reflects the idea that when a person is part of a densely connected group, their contacts with others in the group are widely known and not private. But when the peson interacts with somebody who is not part of a larger group, that connection is likely unknown. Revealing this connection through a contact tracing system might be an invasion of privacy.\n",
    "\n",
    "Example narratives:\n",
    "\n",
    "* A person is a member of a large and close-knit family. They have an affair or liason with somebody in a different family.\n",
    "* A person is an employee of a company where coworkers frequently meet. They take time off of work, saying that it is for a sick day. But really they are interviewing for another job.\n",
    "\n",
    "We assume that for these kinds of contacts, the person is more likely to turn of their contact tracing app.\n",
    "\n",
    "#### Watts-Strogatz Rewiring\n",
    "\n",
    "The Watts-Strogatz model is designed to be a simple model that has triadic closure and local clustering on par with actually observed social networks.\n",
    "\n",
    "It starts with a ring lattice of $N$ nodes with each node connected to $K$ neighbors. Then it rewires each edge with probability $\\beta$. As $\\beta$ approaches $1$, the network gets close to an Erods-Renyi graph $G(N,p)$ with $p = \\frac{K}{N - 1}$.\n",
    "\n",
    "Varying this $\\beta$ parameter is motivate by the following narratives:\n",
    " * As the population is under \"lockdown\", people choose the most important contacts in their life and restrict their interactions to them. While the whole population is connected (via the ring lattice structure), they do not integrate much with other people outside their local community.\n",
    " * Easing the \"lockdown\", people are more able to interact with other parts of the network and take advantage of the social exchange opportunities available from looking outside one's network.\n",
    " \n",
    " \n",
    " ### A priori considerations and concerns\n",
    " \n",
    " The local density function, combined with the Watts Strogatz model, will assign contract tracing probabilites $c_{i,j}$ as a decreasing function of $abs(i - j)$ for low rewiring rates. Around the circle lattice, close neighbors will have high tracing probabilities. Distance neighbors will have fewer shared connections.\n",
    " \n",
    " Rewired edges will have especially low tracing probabilities because unless there are collisions between edge rewirings, which are probabilistically rare, the ends of the rewired edges will share no local neighbors.\n",
    " \n",
    " This amounts to strong assumptions about the viability of the contact tracing system. It will perhaps be effective at stopping spreading in the more densly knit circle lattice structure, but it will be ineffective at detecting spreads across rewired edges.\n",
    " \n",
    "So:\n",
    " * We should see contact tracing performance reduced dramatically as $\\beta$ increases *due to the drop in $C$*.\n",
    " * It may be difficult to distinguish this effect from the change due to network topology itself, which may have an effect on the disease spread independent of the contact tracing system. (or, with a constant $C$.)\n",
    " \n",
    " "
   ]
  },
  {
   "cell_type": "code",
   "execution_count": 1,
   "metadata": {},
   "outputs": [],
   "source": [
    "import sys\n",
    "\n",
    "sys.path.append('.')\n",
    "\n",
    "import model"
   ]
  },
  {
   "cell_type": "code",
   "execution_count": 2,
   "metadata": {},
   "outputs": [],
   "source": [
    "import matplotlib.pyplot as plt\n",
    "import networkx as nx\n",
    "import numpy as np\n",
    "import random\n",
    "import seaborn as sns\n",
    "import statistics"
   ]
  },
  {
   "cell_type": "markdown",
   "metadata": {},
   "source": [
    "## Experiment 1: Varying rewiring rate\n",
    "\n"
   ]
  },
  {
   "cell_type": "code",
   "execution_count": 3,
   "metadata": {},
   "outputs": [],
   "source": [
    "## Population parameters:\n",
    "params = {\n",
    "    # Node parameter\n",
    "    'A' : .7, # probability of adoption\n",
    "    \n",
    "    # Edge parameter\n",
    "    'W' : model.expected_one_per_edge, # probability of edge activation\n",
    "    'C' : model.local_density,\n",
    "    \n",
    "    ## Disease parameters\n",
    "\n",
    "    'beta_hat' : 1, # probability of transmission upon contact\n",
    "    'alpha' : .25, # probability of exposed becoming infectious\n",
    "    'gamma' : .1, # probability of infectious becoming recovered\n",
    "    'zeta' : .1, # probability of infectious becoming symptomatic\n",
    "\n",
    "    ## Contact tracing parameters\n",
    "\n",
    "    'limit' : 10, # number of time steps the contact tracing system remembers\n",
    "}"
   ]
  },
  {
   "cell_type": "code",
   "execution_count": 4,
   "metadata": {},
   "outputs": [],
   "source": [
    "def watts_strogatz_case(beta):\n",
    "    g = nx.watts_strogatz_graph(1500, 10, beta)\n",
    "    p = params.copy()\n",
    "    \n",
    "    return g, p"
   ]
  },
  {
   "cell_type": "code",
   "execution_count": 5,
   "metadata": {},
   "outputs": [],
   "source": [
    "conditions = {\n",
    "    'beta-.000' : {'beta' : 0.000},\n",
    "    'beta-.005' : {'beta' : 0.005},\n",
    "    'beta-.010' : {'beta' : 0.010},\n",
    "    'beta-.015' : {'beta' : 0.015},\n",
    "    'beta-.020' : {'beta' : 0.020},\n",
    "}"
   ]
  },
  {
   "cell_type": "code",
   "execution_count": 6,
   "metadata": {
    "scrolled": false
   },
   "outputs": [
    {
     "name": "stdout",
     "output_type": "stream",
     "text": [
      "beta-.000\n",
      "Trial 0\n",
      "Trial 12 hits time step 100\n",
      "beta-.005\n",
      "Trial 0\n",
      "Trial 0 hits time step 100\n",
      "Trial 14 hits time step 100\n",
      "beta-.010\n",
      "Trial 0\n",
      "Trial 0 hits time step 100\n",
      "Trial 0 hits time step 200\n",
      "Trial 2 hits time step 100\n",
      "Trial 6 hits time step 100\n",
      "Trial 10 hits time step 100\n",
      "Trial 13 hits time step 100\n",
      "Trial 16 hits time step 100\n",
      "Trial 19 hits time step 100\n",
      "Trial 20 hits time step 100\n",
      "Trial 26 hits time step 100\n",
      "beta-.015\n",
      "Trial 0\n",
      "Trial 2 hits time step 100\n",
      "Trial 6 hits time step 100\n",
      "Trial 8 hits time step 100\n",
      "Trial 12 hits time step 100\n",
      "Trial 12 hits time step 200\n",
      "Trial 12 hits time step 300\n",
      "Trial 13 hits time step 100\n",
      "Trial 18 hits time step 100\n",
      "Trial 18 hits time step 200\n",
      "Trial 19 hits time step 100\n",
      "Trial 20 hits time step 100\n",
      "Trial 22 hits time step 100\n",
      "Trial 25 hits time step 100\n",
      "Trial 25 hits time step 200\n",
      "Trial 27 hits time step 100\n",
      "Trial 28 hits time step 100\n",
      "Trial 29 hits time step 100\n",
      "beta-.020\n",
      "Trial 0\n",
      "Trial 0 hits time step 100\n",
      "Trial 1 hits time step 100\n",
      "Trial 1 hits time step 200\n",
      "Trial 3 hits time step 100\n",
      "Trial 6 hits time step 100\n",
      "Trial 8 hits time step 100\n",
      "Trial 9 hits time step 100\n",
      "Trial 9 hits time step 200\n",
      "Trial 12 hits time step 100\n",
      "Trial 13 hits time step 100\n",
      "Trial 13 hits time step 200\n",
      "Trial 16 hits time step 100\n",
      "Trial 16 hits time step 200\n",
      "Trial 19 hits time step 100\n",
      "Trial 19 hits time step 200\n",
      "Trial 19 hits time step 300\n",
      "Trial 21 hits time step 100\n",
      "Trial 22 hits time step 100\n",
      "Trial 22 hits time step 200\n",
      "Trial 25 hits time step 100\n",
      "Trial 28 hits time step 100\n"
     ]
    }
   ],
   "source": [
    "runs = 30\n",
    "\n",
    "results = model.experiment(\n",
    "    watts_strogatz_case,\n",
    "    conditions,\n",
    "    runs)"
   ]
  },
  {
   "cell_type": "markdown",
   "metadata": {},
   "source": [
    "Plotting the final susceptible rate"
   ]
  },
  {
   "cell_type": "code",
   "execution_count": 10,
   "metadata": {},
   "outputs": [
    {
     "data": {
      "text/plain": [
       "<matplotlib.legend.Legend at 0x7f96ab57b390>"
      ]
     },
     "execution_count": 10,
     "metadata": {},
     "output_type": "execute_result"
    },
    {
     "data": {
      "image/png": "[encoded data removed]",
      "text/plain": [
       "<Figure size 432x288 with 1 Axes>"
      ]
     },
     "metadata": {
      "needs_background": "light"
     },
     "output_type": "display_data"
    }
   ],
   "source": [
    "g = results['beta-.000'][0][1]\n",
    "bins = np.linspace(0, len(g.nodes()), 50)\n",
    "\n",
    "for case in results:\n",
    "    plt.hist(\n",
    "        [len(model.susceptible(r[1]))\n",
    "         for r\n",
    "         in results[case]],\n",
    "        bins,\n",
    "        alpha=.5,\n",
    "        label=case)\n",
    "    \n",
    "plt.legend()"
   ]
  },
  {
   "cell_type": "code",
   "execution_count": 11,
   "metadata": {},
   "outputs": [],
   "source": [
    "def average_susceptible_over_time(records):\n",
    "    s_records = [r[3] for r in records]\n",
    "    \n",
    "    m = max([len(d) for d in s_records])\n",
    "\n",
    "    s_plus = [d + [d[len(d)-1]] * (m - len(d)) for d in s_records]\n",
    "\n",
    "    return [\n",
    "        statistics.mean([d[i] for d in s_plus])\n",
    "        for i\n",
    "        in range(m)\n",
    "    ]"
   ]
  },
  {
   "cell_type": "code",
   "execution_count": 13,
   "metadata": {},
   "outputs": [
    {
     "data": {
      "text/plain": [
       "<matplotlib.legend.Legend at 0x7f96ab6198d0>"
      ]
     },
     "execution_count": 13,
     "metadata": {},
     "output_type": "execute_result"
    },
    {
     "data": {
      "image/png": "[encoded data removed]",
      "text/plain": [
       "<Figure size 432x288 with 1 Axes>"
      ]
     },
     "metadata": {
      "needs_background": "light"
     },
     "output_type": "display_data"
    }
   ],
   "source": [
    "g = results['beta-.000'][0][1]\n",
    "bins = np.linspace(0, len(g.nodes()), 50)\n",
    "\n",
    "for case in results:\n",
    "    plt.plot(\n",
    "        model.average_susceptible_over_time(results[case]),\n",
    "        alpha=.8,\n",
    "        label=case)\n",
    "    \n",
    "plt.legend()"
   ]
  },
  {
   "cell_type": "code",
   "execution_count": null,
   "metadata": {},
   "outputs": [],
   "source": []
  },
  {
   "cell_type": "code",
   "execution_count": null,
   "metadata": {},
   "outputs": [],
   "source": []
  }
 ],
 "metadata": {
  "kernelspec": {
   "display_name": "Python 3",
   "language": "python",
   "name": "python3"
  },
  "language_info": {
   "codemirror_mode": {
    "name": "ipython",
    "version": 3
   },
   "file_extension": ".py",
   "mimetype": "text/x-python",
   "name": "python",
   "nbconvert_exporter": "python",
   "pygments_lexer": "ipython3",
   "version": "3.6.9"
  },
  "latex_envs": {
   "LaTeX_envs_menu_present": true,
   "autoclose": false,
   "autocomplete": true,
   "bibliofile": "biblio.bib",
   "cite_by": "apalike",
   "current_citInitial": 1,
   "eqLabelWithNumbers": true,
   "eqNumInitial": 1,
   "hotkeys": {
    "equation": "Ctrl-E",
    "itemize": "Ctrl-I"
   },
   "labels_anchors": false,
   "latex_user_defs": false,
   "report_style_numbering": false,
   "user_envs_cfg": false
  },
  "toc": {
   "base_numbering": 1,
   "nav_menu": {},
   "number_sections": true,
   "sideBar": true,
   "skip_h1_title": false,
   "title_cell": "Table of Contents",
   "title_sidebar": "Contents",
   "toc_cell": false,
   "toc_position": {},
   "toc_section_display": true,
   "toc_window_display": false
  }
 },
 "nbformat": 4,
 "nbformat_minor": 2
}
